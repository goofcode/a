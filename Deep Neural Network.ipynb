{
 "cells": [
  {
   "cell_type": "code",
   "execution_count": 1,
   "metadata": {
    "collapsed": true
   },
   "outputs": [],
   "source": [
    "import tensorflow as tf\n",
    "import pandas as pd\n",
    "import numpy as np\n",
    "import matplotlib.pyplot as plot\n",
    "import matplotlib.cm as cm\n",
    "\n",
    "train = pd.read_csv(\"MNIST/train.csv\")"
   ]
  },
  {
   "cell_type": "code",
   "execution_count": 2,
   "metadata": {
    "scrolled": true
   },
   "outputs": [
    {
     "data": {
      "text/html": [
       "<div>\n",
       "<style>\n",
       "    .dataframe thead tr:only-child th {\n",
       "        text-align: right;\n",
       "    }\n",
       "\n",
       "    .dataframe thead th {\n",
       "        text-align: left;\n",
       "    }\n",
       "\n",
       "    .dataframe tbody tr th {\n",
       "        vertical-align: top;\n",
       "    }\n",
       "</style>\n",
       "<table border=\"1\" class=\"dataframe\">\n",
       "  <thead>\n",
       "    <tr style=\"text-align: right;\">\n",
       "      <th></th>\n",
       "      <th>label</th>\n",
       "      <th>pixel0</th>\n",
       "      <th>pixel1</th>\n",
       "      <th>pixel2</th>\n",
       "      <th>pixel3</th>\n",
       "      <th>pixel4</th>\n",
       "      <th>pixel5</th>\n",
       "      <th>pixel6</th>\n",
       "      <th>pixel7</th>\n",
       "      <th>pixel8</th>\n",
       "      <th>...</th>\n",
       "      <th>pixel774</th>\n",
       "      <th>pixel775</th>\n",
       "      <th>pixel776</th>\n",
       "      <th>pixel777</th>\n",
       "      <th>pixel778</th>\n",
       "      <th>pixel779</th>\n",
       "      <th>pixel780</th>\n",
       "      <th>pixel781</th>\n",
       "      <th>pixel782</th>\n",
       "      <th>pixel783</th>\n",
       "    </tr>\n",
       "  </thead>\n",
       "  <tbody>\n",
       "    <tr>\n",
       "      <th>0</th>\n",
       "      <td>1</td>\n",
       "      <td>0</td>\n",
       "      <td>0</td>\n",
       "      <td>0</td>\n",
       "      <td>0</td>\n",
       "      <td>0</td>\n",
       "      <td>0</td>\n",
       "      <td>0</td>\n",
       "      <td>0</td>\n",
       "      <td>0</td>\n",
       "      <td>...</td>\n",
       "      <td>0</td>\n",
       "      <td>0</td>\n",
       "      <td>0</td>\n",
       "      <td>0</td>\n",
       "      <td>0</td>\n",
       "      <td>0</td>\n",
       "      <td>0</td>\n",
       "      <td>0</td>\n",
       "      <td>0</td>\n",
       "      <td>0</td>\n",
       "    </tr>\n",
       "    <tr>\n",
       "      <th>1</th>\n",
       "      <td>0</td>\n",
       "      <td>0</td>\n",
       "      <td>0</td>\n",
       "      <td>0</td>\n",
       "      <td>0</td>\n",
       "      <td>0</td>\n",
       "      <td>0</td>\n",
       "      <td>0</td>\n",
       "      <td>0</td>\n",
       "      <td>0</td>\n",
       "      <td>...</td>\n",
       "      <td>0</td>\n",
       "      <td>0</td>\n",
       "      <td>0</td>\n",
       "      <td>0</td>\n",
       "      <td>0</td>\n",
       "      <td>0</td>\n",
       "      <td>0</td>\n",
       "      <td>0</td>\n",
       "      <td>0</td>\n",
       "      <td>0</td>\n",
       "    </tr>\n",
       "    <tr>\n",
       "      <th>2</th>\n",
       "      <td>1</td>\n",
       "      <td>0</td>\n",
       "      <td>0</td>\n",
       "      <td>0</td>\n",
       "      <td>0</td>\n",
       "      <td>0</td>\n",
       "      <td>0</td>\n",
       "      <td>0</td>\n",
       "      <td>0</td>\n",
       "      <td>0</td>\n",
       "      <td>...</td>\n",
       "      <td>0</td>\n",
       "      <td>0</td>\n",
       "      <td>0</td>\n",
       "      <td>0</td>\n",
       "      <td>0</td>\n",
       "      <td>0</td>\n",
       "      <td>0</td>\n",
       "      <td>0</td>\n",
       "      <td>0</td>\n",
       "      <td>0</td>\n",
       "    </tr>\n",
       "    <tr>\n",
       "      <th>3</th>\n",
       "      <td>4</td>\n",
       "      <td>0</td>\n",
       "      <td>0</td>\n",
       "      <td>0</td>\n",
       "      <td>0</td>\n",
       "      <td>0</td>\n",
       "      <td>0</td>\n",
       "      <td>0</td>\n",
       "      <td>0</td>\n",
       "      <td>0</td>\n",
       "      <td>...</td>\n",
       "      <td>0</td>\n",
       "      <td>0</td>\n",
       "      <td>0</td>\n",
       "      <td>0</td>\n",
       "      <td>0</td>\n",
       "      <td>0</td>\n",
       "      <td>0</td>\n",
       "      <td>0</td>\n",
       "      <td>0</td>\n",
       "      <td>0</td>\n",
       "    </tr>\n",
       "    <tr>\n",
       "      <th>4</th>\n",
       "      <td>0</td>\n",
       "      <td>0</td>\n",
       "      <td>0</td>\n",
       "      <td>0</td>\n",
       "      <td>0</td>\n",
       "      <td>0</td>\n",
       "      <td>0</td>\n",
       "      <td>0</td>\n",
       "      <td>0</td>\n",
       "      <td>0</td>\n",
       "      <td>...</td>\n",
       "      <td>0</td>\n",
       "      <td>0</td>\n",
       "      <td>0</td>\n",
       "      <td>0</td>\n",
       "      <td>0</td>\n",
       "      <td>0</td>\n",
       "      <td>0</td>\n",
       "      <td>0</td>\n",
       "      <td>0</td>\n",
       "      <td>0</td>\n",
       "    </tr>\n",
       "  </tbody>\n",
       "</table>\n",
       "<p>5 rows × 785 columns</p>\n",
       "</div>"
      ],
      "text/plain": [
       "   label  pixel0  pixel1  pixel2  pixel3  pixel4  pixel5  pixel6  pixel7  \\\n",
       "0      1       0       0       0       0       0       0       0       0   \n",
       "1      0       0       0       0       0       0       0       0       0   \n",
       "2      1       0       0       0       0       0       0       0       0   \n",
       "3      4       0       0       0       0       0       0       0       0   \n",
       "4      0       0       0       0       0       0       0       0       0   \n",
       "\n",
       "   pixel8    ...     pixel774  pixel775  pixel776  pixel777  pixel778  \\\n",
       "0       0    ...            0         0         0         0         0   \n",
       "1       0    ...            0         0         0         0         0   \n",
       "2       0    ...            0         0         0         0         0   \n",
       "3       0    ...            0         0         0         0         0   \n",
       "4       0    ...            0         0         0         0         0   \n",
       "\n",
       "   pixel779  pixel780  pixel781  pixel782  pixel783  \n",
       "0         0         0         0         0         0  \n",
       "1         0         0         0         0         0  \n",
       "2         0         0         0         0         0  \n",
       "3         0         0         0         0         0  \n",
       "4         0         0         0         0         0  \n",
       "\n",
       "[5 rows x 785 columns]"
      ]
     },
     "execution_count": 2,
     "metadata": {},
     "output_type": "execute_result"
    }
   ],
   "source": [
    "train.head()"
   ]
  },
  {
   "cell_type": "code",
   "execution_count": 3,
   "metadata": {
    "scrolled": true
   },
   "outputs": [],
   "source": [
    "train_size = 40000\n",
    "test_size = 2000\n",
    "\n",
    "train_data = train.values\n",
    "\n",
    "# one hot encoding\n",
    "one_hot = np.zeros([train_data.shape[0], 10])\n",
    "one_hot[np.arange(train_data.shape[0]),train_data[:,0]] = 1\n",
    "\n",
    "train_x = train_data[:train_size+1,1:]/255.0\n",
    "train_y = one_hot[:train_size+1]\n",
    "test_x = train_data[-test_size:,1:]/255.0\n",
    "test_y = one_hot[-test_size:,:]"
   ]
  },
  {
   "cell_type": "code",
   "execution_count": 6,
   "metadata": {
    "scrolled": false
   },
   "outputs": [],
   "source": [
    "tf.reset_default_graph()\n",
    "\n",
    "# 5 layer deep neural net\n",
    "input_layer_nodes = 784\n",
    "hidden_layer1_nodes = 512\n",
    "hidden_layer2_nodes = 512\n",
    "hidden_layer3_nodes = 256\n",
    "output_layer_nodes = 10\n",
    "\n",
    "X = tf.placeholder(tf.float32, [None, input_layer_nodes])\n",
    "Y = tf.placeholder(tf.float32, [None, output_layer_nodes])\n",
    "\n",
    "W1 = tf.Variable(tf.random_normal([input_layer_nodes, hidden_layer1_nodes]))\n",
    "W2 = tf.Variable(tf.random_normal([hidden_layer1_nodes, hidden_layer2_nodes]))\n",
    "W3 = tf.Variable(tf.random_normal([hidden_layer2_nodes, hidden_layer3_nodes]))\n",
    "W4 = tf.Variable(tf.random_normal([hidden_layer3_nodes, output_layer_nodes]))\n",
    "\n",
    "b1 = tf.Variable(tf.random_normal([hidden_layer1_nodes]))\n",
    "b2 = tf.Variable(tf.random_normal([hidden_layer2_nodes]))\n",
    "b3 = tf.Variable(tf.random_normal([hidden_layer3_nodes]))\n",
    "b4 = tf.Variable(tf.random_normal([output_layer_nodes]))\n",
    "\n",
    "_dropout_rate = tf.placeholder(tf.float32)\n",
    "\n",
    "#out_hidden1 = tf.nn.dropout(tf.nn.relu(tf.add(tf.matmul(X, W1),b1)),_dropout_rate)\n",
    "out_hidden1 = tf.nn.relu(tf.add(tf.matmul(X, W1),b1))\n",
    "#out_hidden2 = tf.nn.dropout(tf.nn.relu(tf.add(tf.matmul(out_hidden1, W2),b2)),_dropout_rate)\n",
    "out_hidden2 = tf.nn.relu(tf.add(tf.matmul(out_hidden1, W2),b2))\n",
    "out_hidden3 = tf.nn.dropout(tf.nn.relu(tf.add(tf.matmul(out_hidden2, W3),b3)),_dropout_rate)\n",
    "out_output = tf.add(tf.matmul(out_hidden3, W4),b4)\n",
    "    \n",
    "loss = tf.reduce_mean(tf.nn.softmax_cross_entropy_with_logits(labels=Y,logits=out_output))\n",
    "\n",
    "accuracy = tf.reduce_mean(tf.cast(tf.equal(tf.arg_max(out_output, 1), tf.arg_max(Y,1)), tf.float32))\n",
    "\n",
    "_learning_rate = tf.placeholder(tf.float32)\n",
    "train = tf.train.AdamOptimizer(_learning_rate).minimize(loss)"
   ]
  },
  {
   "cell_type": "code",
   "execution_count": 7,
   "metadata": {
    "scrolled": true
   },
   "outputs": [],
   "source": [
    "import time\n",
    "\n",
    "loss_stack = [1]\n",
    "acc_stack = []\n",
    "test_acc_stack = []\n",
    "\n",
    "sess = tf.Session()\n",
    "sess.run(tf.global_variables_initializer())\n",
    "\n",
    "def train_model(train_step, batch_size, learning_rate, log_step = 1):\n",
    "    \n",
    "    dropout_rate = 0.7\n",
    "    \n",
    "    for step in range(train_step):\n",
    "        np.random.seed(int(time.time()))\n",
    "        rand_idx = np.random.choice(train_size, size=batch_size)\n",
    "        train_feed = {X:train_x[rand_idx,:], Y: train_y[rand_idx,:], _dropout_rate: dropout_rate, _learning_rate:learning_rate}\n",
    "\n",
    "        sess.run(train, train_feed)\n",
    "\n",
    "        train_acc_feed = {X:train_x, Y:train_y, _dropout_rate:1.0}\n",
    "        test_acc_feed = {X:test_x, Y: test_y, _dropout_rate:1.0}\n",
    "\n",
    "        loss_stack.append(sess.run(loss,train_acc_feed))\n",
    "        acc_stack.append(sess.run(accuracy,train_acc_feed))\n",
    "        test_acc_stack.append(sess.run(accuracy,test_acc_feed))\n",
    "\n",
    "        if((step+1) % log_step == 0):\n",
    "            print(\"step:{:3},\\tloss:{:>6.2f},\\tdloss:{:>3.1f}%,\\ttrain_acc:{:1.4f},\\ttest_acc:{:1.4f}\".format(step+1, loss_stack[-1], (loss_stack[-2]-loss_stack[-1])/loss_stack[-2]*100 ,acc_stack[-1], test_acc_stack[-1]))\n",
    "    "
   ]
  },
  {
   "cell_type": "code",
   "execution_count": 9,
   "metadata": {
    "scrolled": false
   },
   "outputs": [
    {
     "name": "stdout",
     "output_type": "stream",
     "text": [
      "step: 20,\tloss:558.32,\tdloss:0.1%,\ttrain_acc:0.8884,\ttest_acc:0.8785\n",
      "step: 40,\tloss:548.25,\tdloss:0.1%,\ttrain_acc:0.8890,\ttest_acc:0.8840\n",
      "step: 60,\tloss:530.98,\tdloss:0.2%,\ttrain_acc:0.8905,\ttest_acc:0.8875\n",
      "step: 80,\tloss:511.89,\tdloss:0.2%,\ttrain_acc:0.8920,\ttest_acc:0.8870\n",
      "step:100,\tloss:492.01,\tdloss:0.1%,\ttrain_acc:0.8935,\ttest_acc:0.8860\n",
      "step:120,\tloss:472.94,\tdloss:0.1%,\ttrain_acc:0.8946,\ttest_acc:0.8860\n",
      "step:140,\tloss:456.81,\tdloss:0.3%,\ttrain_acc:0.8938,\ttest_acc:0.8825\n",
      "step:160,\tloss:442.46,\tdloss:0.2%,\ttrain_acc:0.8947,\ttest_acc:0.8855\n",
      "step:180,\tloss:428.22,\tdloss:0.3%,\ttrain_acc:0.8959,\ttest_acc:0.8875\n",
      "step:200,\tloss:411.56,\tdloss:0.1%,\ttrain_acc:0.8979,\ttest_acc:0.8930\n",
      "step:220,\tloss:400.92,\tdloss:0.1%,\ttrain_acc:0.8985,\ttest_acc:0.8925\n",
      "step:240,\tloss:385.59,\tdloss:0.2%,\ttrain_acc:0.8997,\ttest_acc:0.8910\n",
      "step:260,\tloss:377.12,\tdloss:0.2%,\ttrain_acc:0.8987,\ttest_acc:0.8905\n",
      "step:280,\tloss:365.26,\tdloss:0.1%,\ttrain_acc:0.8992,\ttest_acc:0.8930\n",
      "step:300,\tloss:350.58,\tdloss:0.0%,\ttrain_acc:0.9002,\ttest_acc:0.8905\n",
      "step:320,\tloss:340.87,\tdloss:0.2%,\ttrain_acc:0.9006,\ttest_acc:0.8880\n",
      "step:340,\tloss:326.39,\tdloss:0.1%,\ttrain_acc:0.9026,\ttest_acc:0.8885\n",
      "step:360,\tloss:322.67,\tdloss:-0.1%,\ttrain_acc:0.9007,\ttest_acc:0.8800\n",
      "step:380,\tloss:314.42,\tdloss:0.2%,\ttrain_acc:0.9021,\ttest_acc:0.8850\n",
      "step:400,\tloss:302.49,\tdloss:0.1%,\ttrain_acc:0.9036,\ttest_acc:0.8895\n",
      "step:420,\tloss:294.46,\tdloss:0.2%,\ttrain_acc:0.9025,\ttest_acc:0.8895\n",
      "step:440,\tloss:282.56,\tdloss:0.2%,\ttrain_acc:0.9035,\ttest_acc:0.8850\n",
      "step:460,\tloss:274.68,\tdloss:0.1%,\ttrain_acc:0.9038,\ttest_acc:0.8835\n",
      "step:480,\tloss:266.60,\tdloss:0.3%,\ttrain_acc:0.9048,\ttest_acc:0.8885\n",
      "step:500,\tloss:257.82,\tdloss:0.1%,\ttrain_acc:0.9053,\ttest_acc:0.8910\n"
     ]
    }
   ],
   "source": [
    "train_model(train_step=500, batch_size=100,learning_rate=0.001, log_step=20)"
   ]
  },
  {
   "cell_type": "code",
   "execution_count": 10,
   "metadata": {},
   "outputs": [
    {
     "data": {
      "text/plain": [
       "'./checkpoints/deepMNIST_drop7.ckpt'"
      ]
     },
     "execution_count": 10,
     "metadata": {},
     "output_type": "execute_result"
    }
   ],
   "source": [
    "saver = tf.train.Saver()\n",
    "saver.save(sess, \"./checkpoints/deepMNIST_drop7.ckpt\")"
   ]
  },
  {
   "cell_type": "code",
   "execution_count": 12,
   "metadata": {
    "scrolled": true
   },
   "outputs": [
    {
     "data": {
      "image/png": "[encoded data removed]",
      "text/plain": [
       "<matplotlib.figure.Figure at 0x21c82743f60>"
      ]
     },
     "metadata": {},
     "output_type": "display_data"
    },
    {
     "data": {
      "image/png": "[encoded data removed]",
      "text/plain": [
       "<matplotlib.figure.Figure at 0x21cdc95ea20>"
      ]
     },
     "metadata": {},
     "output_type": "display_data"
    },
    {
     "data": {
      "image/png": "[encoded data removed]",
      "text/plain": [
       "<matplotlib.figure.Figure at 0x21c82bb6f28>"
      ]
     },
     "metadata": {},
     "output_type": "display_data"
    }
   ],
   "source": [
    "plot.plot(loss_stack, 'k-')\n",
    "plot.show()\n",
    "plot.plot(acc_stack, 'k-')\n",
    "plot.show()\n",
    "plot.plot(test_acc_stack, 'k-')\n",
    "plot.show()"
   ]
  },
  {
   "cell_type": "code",
   "execution_count": null,
   "metadata": {
    "collapsed": true
   },
   "outputs": [],
   "source": [
    "test = pd.read_csv(\"MNIST/test.csv\")\n",
    "\n",
    "for i in range(3):\n",
    "    plot.imshow((test.values[i,:]).reshape((28,28)),cmap=cm.binary)\n",
    "    plot.show()\n",
    "for i in range(3):\n",
    "    plot.imshow((test.values[27997+i, :]).reshape((28,28)), cmap=cm.binary)\n",
    "    plot.show()"
   ]
  },
  {
   "cell_type": "code",
   "execution_count": null,
   "metadata": {
    "collapsed": true,
    "scrolled": true
   },
   "outputs": [],
   "source": [
    "\n",
    "imgID = np.arange(1, 28001).reshape((-1,1))\n",
    "prediction = np.argmax(sess.run(out_output,{X:test.values, dropout_rate:1.0}), 1).astype(int).reshape((-1,1))\n",
    "print(prediction)\n",
    "with open('final.csv', 'wb') as f:\n",
    "  f.write(b'ImageId,Label\\n')\n",
    "  np.savetxt(f, np.concatenate((imgID, prediction),axis=1), fmt= '%i',delimiter=\",\")"
   ]
  },
  {
   "cell_type": "code",
   "execution_count": null,
   "metadata": {
    "collapsed": true
   },
   "outputs": [],
   "source": []
  }
 ],
 "metadata": {
  "kernelspec": {
   "display_name": "Python 3",
   "language": "python",
   "name": "python3"
  },
  "language_info": {
   "codemirror_mode": {
    "name": "ipython",
    "version": 3
   },
   "file_extension": ".py",
   "mimetype": "text/x-python",
   "name": "python",
   "nbconvert_exporter": "python",
   "pygments_lexer": "ipython3",
   "version": "3.6.1"
  }
 },
 "nbformat": 4,
 "nbformat_minor": 2
}
