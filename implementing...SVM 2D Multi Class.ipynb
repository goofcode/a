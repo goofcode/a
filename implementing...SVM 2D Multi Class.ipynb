{
 "cells": [
  {
   "cell_type": "code",
   "execution_count": null,
   "metadata": {
    "collapsed": true
   },
   "outputs": [],
   "source": [
    "import numpy as np\n",
    "import tensorflow as tf\n",
    "\n",
    "#training set\n",
    "num_points = 10\n",
    "\n",
    "#class\n",
    "num_class = 10\n",
    "num_features = 100\n",
    "\n",
    "#training set\n",
    "num_points = 1000\n",
    "\n",
    "\n",
    "#display option\n",
    "class_color1 = 'b+'\n",
    "class_color2 = 'r+'\n",
    "decision_boundary_color = 'g'\n"
   ]
  },
  {
   "cell_type": "code",
   "execution_count": null,
   "metadata": {
    "collapsed": true
   },
   "outputs": [],
   "source": []
  },
  {
   "cell_type": "code",
   "execution_count": null,
   "metadata": {
    "collapsed": true
   },
   "outputs": [],
   "source": [
    "#training hyper parameters\n",
    "num_features = 5\n",
    "num_class = 3\n",
    "train_step = 10000\n",
    "learning_rate = 0.05\n",
    "\n",
    "#display option\n",
    "log_step = 500"
   ]
  },
  {
   "cell_type": "code",
   "execution_count": null,
   "metadata": {
    "collapsed": true
   },
   "outputs": [],
   "source": [
    "X = tf.placeholder(tf.float64, shape=(num_features+1,num_points))\n",
    "Y = tf.placeholder(tf.float64, shape=(num_class,num_points))\n",
    "\n",
    "W = tf.Variable(np.random.random((num_features+1,num_class)))\n",
    "\n",
    "Z = tf.matmul(tf.transpose(W),X)\n",
    "EXP = tf.exp(Z)\n",
    "SUM = tf.reduce_sum(EXP, axis=0)\n",
    "\n",
    "H = EXP/SUM\n",
    "PREDICTION = tf.transpose(tf.one_hot(indices=tf.arg_max(H,0),depth=num_class))\n",
    "\n",
    "\n",
    "L = tf.log(tf.reduce_sum(Y*H, axis=0))\n",
    "loss = -tf.reduce_sum(L)\n",
    "\n",
    "optimizer = tf.train.GradientDescentOptimizer(learning_rate)\n",
    "train = optimizer.minimize(loss)"
   ]
  },
  {
   "cell_type": "code",
   "execution_count": null,
   "metadata": {
    "collapsed": true
   },
   "outputs": [],
   "source": [
    "with tf.Session() as sess:\n",
    "    init = tf.global_variables_initializer()\n",
    "    feed = {X: data_x, Y: data_y}\n",
    "    \n",
    "    for step in range(train_step+1):\n",
    "        if(step == 0):\n",
    "            sess.run(init)\n",
    "        else:\n",
    "            sess.run(train, feed)\n",
    "        \n",
    "        if(step == 0 or step % log_step == 0):\n",
    "            print(\"step\", step, sess.run(W), '%.5f'%sess.run(loss, feed))"
   ]
  }
 ],
 "metadata": {
  "kernelspec": {
   "display_name": "Python 3",
   "language": "python",
   "name": "python3"
  },
  "language_info": {
   "codemirror_mode": {
    "name": "ipython",
    "version": 3
   },
   "file_extension": ".py",
   "mimetype": "text/x-python",
   "name": "python",
   "nbconvert_exporter": "python",
   "pygments_lexer": "ipython3",
   "version": "3.6.1"
  }
 },
 "nbformat": 4,
 "nbformat_minor": 2
}
